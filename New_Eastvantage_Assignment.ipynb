{
 "cells": [
  {
   "cell_type": "code",
   "execution_count": null,
   "id": "d3cad1f0",
   "metadata": {},
   "outputs": [],
   "source": [
    "#Eastvantage Assignment "
   ]
  },
  {
   "cell_type": "code",
   "execution_count": 17,
   "id": "c8b8de9d",
   "metadata": {},
   "outputs": [],
   "source": [
    "import sqlite3\n",
    "# con = sqlite3.connect(\"EastVantage_Business1.db\")\n",
    "# cur = con.cursor()\n",
    "\n",
    "\n",
    "con = sqlite3.connect(\"Data Engineer - Assignment Database.db\")\n",
    "cur = con.cursor()"
   ]
  },
  {
   "cell_type": "code",
   "execution_count": 18,
   "id": "a7e5ca75",
   "metadata": {},
   "outputs": [],
   "source": [
    "cur.execute(\"DROP TABLE IF EXISTS sales\")\n",
    "cur.execute(\"DROP TABLE IF EXISTS customers\")\n",
    "cur.execute(\"DROP TABLE IF EXISTS orders\")\n",
    "cur.execute(\"DROP TABLE IF EXISTS items\")\n",
    "cur = con.cursor()\n"
   ]
  },
  {
   "cell_type": "code",
   "execution_count": 19,
   "id": "cc196f9b",
   "metadata": {},
   "outputs": [
    {
     "data": {
      "text/plain": [
       "<sqlite3.Cursor at 0x21f9a5ca140>"
      ]
     },
     "execution_count": 19,
     "metadata": {},
     "output_type": "execute_result"
    }
   ],
   "source": [
    "\n",
    "cur.execute(\"CREATE TABLE IF NOT EXISTS sales ( Sales_id INTEGER PRIMARY KEY,customer_id INTEGER,FOREIGN KEY (customer_id) REFERENCES customers(customer_id))\")\n",
    "\n",
    "cur.execute(\"CREATE TABLE IF NOT EXISTS customers (customer_id INTEGER PRIMARY KEY,age INTEGER)\")\n",
    "\n",
    "cur.execute(\"CREATE TABLE IF NOT EXISTS orders (order_id INTEGER PRIMARY KEY,sales_id INTEGER,item_id INTEGER,quantity INTEGER,FOREIGN KEY (sales_id) REFERENCES sales(Sales_id),FOREIGN KEY (item_id) REFERENCES items(item_id))\")\n",
    "\n",
    "cur.execute(\"CREATE TABLE IF NOT EXISTS items (item_id INTEGER PRIMARY KEY,item_name TEXT)\")\n",
    "            \n",
    "cur.execute(\"\"\"INSERT INTO sales (Sales_id, customer_id) VALUES\n",
    "(1, 101),\n",
    "(2, 102),\n",
    "(3, 103),\n",
    "(4, 104),\n",
    "(5, 105),\n",
    "(6, 106),\n",
    "(7, 107),\n",
    "(8, 108),\n",
    "(9, 109),\n",
    "(10, 110)\n",
    "\"\"\")\n",
    "            \n",
    "cur.execute(\"\"\"INSERT INTO customers (customer_id, age) VALUES\n",
    "(101, 30),\n",
    "(102, 35),\n",
    "(103, 25),\n",
    "(104, 40),\n",
    "(105, 28),\n",
    "(106, 45),\n",
    "(107, 50),\n",
    "(108, 22),\n",
    "(109, 38),\n",
    "(110, 29)\n",
    "\"\"\")\n",
    "\n",
    "\n",
    "\n",
    "\n",
    "cur.execute(\"\"\"INSERT INTO orders (order_id, sales_id, item_id, quantity) VALUES\n",
    "(1, 1, 1, 5),\n",
    "(2, 2, 2, 3),\n",
    "(3, 3, 3, 2),\n",
    "(4, 4, 4, 7),\n",
    "(5, 5, 5, 1),\n",
    "(6, 6, 6, 4),\n",
    "(7, 7, 7, 6),\n",
    "(8, 8, 8, 2),\n",
    "(9, 9, 9, 3),\n",
    "(10, 10, 10, 8)\n",
    "\"\"\")\n",
    "\n",
    "\n",
    "\n",
    "\n",
    "cur.execute(\"\"\"INSERT INTO items (item_id, item_name) VALUES\n",
    "(1, 'Product A'),\n",
    "(2, 'Product B'),\n",
    "(3, 'Product C'),\n",
    "(4, 'Product D'),\n",
    "(5, 'Product E'),\n",
    "(6, 'Product F'),\n",
    "(7, 'Product G'),\n",
    "(8, 'Product H'),\n",
    "(9, 'Product I'),\n",
    "(10, 'Product J')\n",
    "\"\"\")\n"
   ]
  },
  {
   "cell_type": "code",
   "execution_count": 20,
   "id": "f76c5e4c",
   "metadata": {},
   "outputs": [],
   "source": [
    "#pandas solution\n",
    "\n",
    "import pandas as pd \n",
    "sql_query = \"\"\"\n",
    "SELECT c.customer_id,c.age,o.item_id,SUM(o.quantity) AS total_quantity\n",
    "FROM sales s\n",
    "JOIN customers c ON s.customer_id = c.customer_id\n",
    "JOIN orders o ON s.sales_id=o.sales_id\n",
    "WHERE c.age BETWEEN 18 AND 35\n",
    "GROUP BY c.customer_id, o.item_id\n",
    "HAVING total_quantity > 0\n",
    "\"\"\"\n",
    "\n",
    "\n",
    "\n",
    "df = pd.read_sql_query(sql_query, con)\n",
    "\n",
    "df.to_csv('per_customer_items_quantities.csv', sep=';', index=False)\n",
    "\n",
    "\n",
    "###################################################################\n",
    "\n",
    "#Sql solution\n",
    "\n",
    "sql_query = \"\"\"\n",
    "SELECT c.customer_id,c.age,o.item_id,SUM(o.quantity) AS total_quantity\n",
    "FROM sales s\n",
    "JOIN customers c ON s.customer_id = c.customer_id\n",
    "JOIN orders o ON s.sales_id=o.sales_id\n",
    "WHERE c.age BETWEEN 18 AND 35\n",
    "GROUP BY c.customer_id, o.item_id\n",
    "HAVING total_quantity > 0\n",
    "\"\"\"\n",
    "\n",
    "res=cur.execute(sql_query)\n",
    "res.fetchall()\n",
    "cur.close()\n"
   ]
  },
  {
   "cell_type": "code",
   "execution_count": null,
   "id": "63ec6f0d",
   "metadata": {},
   "outputs": [],
   "source": []
  },
  {
   "cell_type": "code",
   "execution_count": null,
   "id": "b75179a4",
   "metadata": {},
   "outputs": [],
   "source": []
  },
  {
   "cell_type": "code",
   "execution_count": null,
   "id": "b36bcaa6",
   "metadata": {},
   "outputs": [],
   "source": []
  },
  {
   "cell_type": "code",
   "execution_count": null,
   "id": "7588ab4e",
   "metadata": {},
   "outputs": [],
   "source": []
  },
  {
   "cell_type": "code",
   "execution_count": null,
   "id": "e44fddb9",
   "metadata": {},
   "outputs": [],
   "source": []
  },
  {
   "cell_type": "code",
   "execution_count": null,
   "id": "46eed08f",
   "metadata": {},
   "outputs": [],
   "source": []
  },
  {
   "cell_type": "code",
   "execution_count": 6,
   "id": "b244aca6",
   "metadata": {},
   "outputs": [
    {
     "ename": "ProgrammingError",
     "evalue": "Cannot operate on a closed database.",
     "output_type": "error",
     "traceback": [
      "\u001b[1;31m---------------------------------------------------------------------------\u001b[0m",
      "\u001b[1;31mProgrammingError\u001b[0m                          Traceback (most recent call last)",
      "Cell \u001b[1;32mIn[6], line 3\u001b[0m\n\u001b[0;32m      1\u001b[0m \u001b[38;5;66;03m# res1 = cur.execute(\"SELECT * FROM sales\")\u001b[39;00m\n\u001b[0;32m      2\u001b[0m \u001b[38;5;66;03m# res1.fetchall()\u001b[39;00m\n\u001b[1;32m----> 3\u001b[0m res2 \u001b[38;5;241m=\u001b[39m cur\u001b[38;5;241m.\u001b[39mexecute(\u001b[38;5;124m\"\u001b[39m\u001b[38;5;124mSELECT * FROM customers\u001b[39m\u001b[38;5;124m\"\u001b[39m)\n\u001b[0;32m      4\u001b[0m res2\u001b[38;5;241m.\u001b[39mfetchall()\n",
      "\u001b[1;31mProgrammingError\u001b[0m: Cannot operate on a closed database."
     ]
    }
   ],
   "source": [
    "# res1 = cur.execute(\"SELECT * FROM sales\")\n",
    "# res1.fetchall()\n",
    "res2 = cur.execute(\"SELECT * FROM customers\")\n",
    "res2.fetchall()\n",
    "# res3 = cur.execute(\"SELECT * FROM orders\")\n",
    "# res3.fetchall()\n",
    "# res4 = cur.execute(\"SELECT * FROM items\")\n",
    "# res4.fetchall()"
   ]
  },
  {
   "cell_type": "code",
   "execution_count": null,
   "id": "d0af4f2b",
   "metadata": {},
   "outputs": [],
   "source": []
  }
 ],
 "metadata": {
  "kernelspec": {
   "display_name": "Python 3 (ipykernel)",
   "language": "python",
   "name": "python3"
  },
  "language_info": {
   "codemirror_mode": {
    "name": "ipython",
    "version": 3
   },
   "file_extension": ".py",
   "mimetype": "text/x-python",
   "name": "python",
   "nbconvert_exporter": "python",
   "pygments_lexer": "ipython3",
   "version": "3.11.5"
  }
 },
 "nbformat": 4,
 "nbformat_minor": 5
}
